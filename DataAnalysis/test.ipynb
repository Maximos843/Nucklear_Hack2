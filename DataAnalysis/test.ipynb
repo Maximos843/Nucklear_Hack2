{
 "cells": [
  {
   "cell_type": "code",
   "execution_count": null,
   "metadata": {
    "collapsed": true,
    "pycharm": {
     "is_executing": true
    }
   },
   "outputs": [],
   "source": [
    "str1 = '''test'''\n",
    "'''{}'''.format(str1)"
   ]
  },
  {
   "cell_type": "code",
   "execution_count": 2,
   "outputs": [
    {
     "data": {
      "text/plain": "{'test': 'test'}"
     },
     "execution_count": 2,
     "metadata": {},
     "output_type": "execute_result"
    }
   ],
   "source": [
    "import json\n",
    "json.loads('''{\"test\": \"test\"}''')"
   ],
   "metadata": {
    "collapsed": false,
    "ExecuteTime": {
     "start_time": "2024-04-20T15:53:10.484228Z",
     "end_time": "2024-04-20T15:53:10.543624Z"
    }
   }
  },
  {
   "cell_type": "code",
   "execution_count": 4,
   "outputs": [
    {
     "data": {
      "text/plain": "              Станция  Номер линии              Дата  2024-04-03 00:00:00   \n0     Б.Рокоссовского            8    СОКОЛЬНИЧЕСКАЯ                16671  \\\n1        Черкизовская            8    СОКОЛЬНИЧЕСКАЯ                 6248   \n2    Преображенск. пл            8    СОКОЛЬНИЧЕСКАЯ                14094   \n3       Сокольники СЛ            8    СОКОЛЬНИЧЕСКАЯ                18651   \n4      Красносельская            8    СОКОЛЬНИЧЕСКАЯ                 7391   \n..                ...          ...               ...                  ...   \n317  Аэропорт Внуково         1691  СОЛНЦЕВСКАЯ ЛИН.                15787   \n318         Яхромская           18        ЛЮБЛИНСКАЯ                 9813   \n319         Лианозово           18        ЛЮБЛИНСКАЯ                18978   \n320            Физтех           18        ЛЮБЛИНСКАЯ                 1476   \n321   Текстильщики СЦ         1749               БКЛ                18055   \n\n     2024-04-02 00:00:00  2024-04-01 00:00:00  2024-03-31 00:00:00   \n0                  15113                 2905                13998  \\\n1                   5441                 7991                14864   \n2                   1132                 6556                 7265   \n3                  10083                 6488                 6409   \n4                  19339                15424                10725   \n..                   ...                  ...                  ...   \n317                10257                13493                 8656   \n318                19663                12491                 9180   \n319                 8499                 2959                12203   \n320                 2893                 9897                 9793   \n321                18422                14815                16915   \n\n     2024-03-30 00:00:00  2024-03-29 00:00:00  2024-03-28 00:00:00  ...   \n0                  12742                 1217                17624  ...  \\\n1                  10015                 9721                 6623  ...   \n2                   4001                10961                 6852  ...   \n3                   9446                12051                15041  ...   \n4                   5965                14682                18134  ...   \n..                   ...                  ...                  ...  ...   \n317                 5761                18352                 6449  ...   \n318                 3563                19023                 5655  ...   \n319                 9070                 3349                 5543  ...   \n320                 9822                 4534                 4115  ...   \n321                 6052                17560                14126  ...   \n\n     2024-01-10 00:00:00  2024-01-09 00:00:00  2024-01-08 00:00:00   \n0                   7280                 4669                 3812  \\\n1                  13486                 5061                 3663   \n2                   8176                 9745                13281   \n3                   3637                14001                12049   \n4                  14194                 7615                 9321   \n..                   ...                  ...                  ...   \n317                 9654                17815                12401   \n318                12471                17980                 2322   \n319                17639                14071                17237   \n320                16336                17256                14147   \n321                 4330                17175                 1590   \n\n     2024-01-07 00:00:00  2024-01-06 00:00:00  2024-01-05 00:00:00   \n0                   5816                15740                13714  \\\n1                  11353                 6924                 6496   \n2                  15090                13309                 8365   \n3                  15972                15545                18759   \n4                  16152                 4581                 7746   \n..                   ...                  ...                  ...   \n317                15277                13153                19801   \n318                 6341                16395                14759   \n319                16304                 8357                 5616   \n320                 2938                15037                 3834   \n321                19487                11503                13438   \n\n     2024-01-04 00:00:00  2024-01-03 00:00:00  2024-01-02 00:00:00   \n0                   2561                11209                 2722  \\\n1                  15991                 7029                 3999   \n2                   2811                 5004                17068   \n3                   5573                15017                14176   \n4                   8936                11373                19561   \n..                   ...                  ...                  ...   \n317                17569                13950                 7545   \n318                14798                17189                 3864   \n319                16496                 8603                16046   \n320                 5997                 5933                 4969   \n321                 7997                10796                11741   \n\n     2024-01-01 00:00:00  \n0                   4835  \n1                  15638  \n2                  17117  \n3                   5465  \n4                   1727  \n..                   ...  \n317                14178  \n318                12536  \n319                 5489  \n320                 5404  \n321                 1741  \n\n[322 rows x 97 columns]",
      "text/html": "<div>\n<style scoped>\n    .dataframe tbody tr th:only-of-type {\n        vertical-align: middle;\n    }\n\n    .dataframe tbody tr th {\n        vertical-align: top;\n    }\n\n    .dataframe thead th {\n        text-align: right;\n    }\n</style>\n<table border=\"1\" class=\"dataframe\">\n  <thead>\n    <tr style=\"text-align: right;\">\n      <th></th>\n      <th>Станция</th>\n      <th>Номер линии</th>\n      <th>Дата</th>\n      <th>2024-04-03 00:00:00</th>\n      <th>2024-04-02 00:00:00</th>\n      <th>2024-04-01 00:00:00</th>\n      <th>2024-03-31 00:00:00</th>\n      <th>2024-03-30 00:00:00</th>\n      <th>2024-03-29 00:00:00</th>\n      <th>2024-03-28 00:00:00</th>\n      <th>...</th>\n      <th>2024-01-10 00:00:00</th>\n      <th>2024-01-09 00:00:00</th>\n      <th>2024-01-08 00:00:00</th>\n      <th>2024-01-07 00:00:00</th>\n      <th>2024-01-06 00:00:00</th>\n      <th>2024-01-05 00:00:00</th>\n      <th>2024-01-04 00:00:00</th>\n      <th>2024-01-03 00:00:00</th>\n      <th>2024-01-02 00:00:00</th>\n      <th>2024-01-01 00:00:00</th>\n    </tr>\n  </thead>\n  <tbody>\n    <tr>\n      <th>0</th>\n      <td>Б.Рокоссовского</td>\n      <td>8</td>\n      <td>СОКОЛЬНИЧЕСКАЯ</td>\n      <td>16671</td>\n      <td>15113</td>\n      <td>2905</td>\n      <td>13998</td>\n      <td>12742</td>\n      <td>1217</td>\n      <td>17624</td>\n      <td>...</td>\n      <td>7280</td>\n      <td>4669</td>\n      <td>3812</td>\n      <td>5816</td>\n      <td>15740</td>\n      <td>13714</td>\n      <td>2561</td>\n      <td>11209</td>\n      <td>2722</td>\n      <td>4835</td>\n    </tr>\n    <tr>\n      <th>1</th>\n      <td>Черкизовская</td>\n      <td>8</td>\n      <td>СОКОЛЬНИЧЕСКАЯ</td>\n      <td>6248</td>\n      <td>5441</td>\n      <td>7991</td>\n      <td>14864</td>\n      <td>10015</td>\n      <td>9721</td>\n      <td>6623</td>\n      <td>...</td>\n      <td>13486</td>\n      <td>5061</td>\n      <td>3663</td>\n      <td>11353</td>\n      <td>6924</td>\n      <td>6496</td>\n      <td>15991</td>\n      <td>7029</td>\n      <td>3999</td>\n      <td>15638</td>\n    </tr>\n    <tr>\n      <th>2</th>\n      <td>Преображенск. пл</td>\n      <td>8</td>\n      <td>СОКОЛЬНИЧЕСКАЯ</td>\n      <td>14094</td>\n      <td>1132</td>\n      <td>6556</td>\n      <td>7265</td>\n      <td>4001</td>\n      <td>10961</td>\n      <td>6852</td>\n      <td>...</td>\n      <td>8176</td>\n      <td>9745</td>\n      <td>13281</td>\n      <td>15090</td>\n      <td>13309</td>\n      <td>8365</td>\n      <td>2811</td>\n      <td>5004</td>\n      <td>17068</td>\n      <td>17117</td>\n    </tr>\n    <tr>\n      <th>3</th>\n      <td>Сокольники СЛ</td>\n      <td>8</td>\n      <td>СОКОЛЬНИЧЕСКАЯ</td>\n      <td>18651</td>\n      <td>10083</td>\n      <td>6488</td>\n      <td>6409</td>\n      <td>9446</td>\n      <td>12051</td>\n      <td>15041</td>\n      <td>...</td>\n      <td>3637</td>\n      <td>14001</td>\n      <td>12049</td>\n      <td>15972</td>\n      <td>15545</td>\n      <td>18759</td>\n      <td>5573</td>\n      <td>15017</td>\n      <td>14176</td>\n      <td>5465</td>\n    </tr>\n    <tr>\n      <th>4</th>\n      <td>Красносельская</td>\n      <td>8</td>\n      <td>СОКОЛЬНИЧЕСКАЯ</td>\n      <td>7391</td>\n      <td>19339</td>\n      <td>15424</td>\n      <td>10725</td>\n      <td>5965</td>\n      <td>14682</td>\n      <td>18134</td>\n      <td>...</td>\n      <td>14194</td>\n      <td>7615</td>\n      <td>9321</td>\n      <td>16152</td>\n      <td>4581</td>\n      <td>7746</td>\n      <td>8936</td>\n      <td>11373</td>\n      <td>19561</td>\n      <td>1727</td>\n    </tr>\n    <tr>\n      <th>...</th>\n      <td>...</td>\n      <td>...</td>\n      <td>...</td>\n      <td>...</td>\n      <td>...</td>\n      <td>...</td>\n      <td>...</td>\n      <td>...</td>\n      <td>...</td>\n      <td>...</td>\n      <td>...</td>\n      <td>...</td>\n      <td>...</td>\n      <td>...</td>\n      <td>...</td>\n      <td>...</td>\n      <td>...</td>\n      <td>...</td>\n      <td>...</td>\n      <td>...</td>\n      <td>...</td>\n    </tr>\n    <tr>\n      <th>317</th>\n      <td>Аэропорт Внуково</td>\n      <td>1691</td>\n      <td>СОЛНЦЕВСКАЯ ЛИН.</td>\n      <td>15787</td>\n      <td>10257</td>\n      <td>13493</td>\n      <td>8656</td>\n      <td>5761</td>\n      <td>18352</td>\n      <td>6449</td>\n      <td>...</td>\n      <td>9654</td>\n      <td>17815</td>\n      <td>12401</td>\n      <td>15277</td>\n      <td>13153</td>\n      <td>19801</td>\n      <td>17569</td>\n      <td>13950</td>\n      <td>7545</td>\n      <td>14178</td>\n    </tr>\n    <tr>\n      <th>318</th>\n      <td>Яхромская</td>\n      <td>18</td>\n      <td>ЛЮБЛИНСКАЯ</td>\n      <td>9813</td>\n      <td>19663</td>\n      <td>12491</td>\n      <td>9180</td>\n      <td>3563</td>\n      <td>19023</td>\n      <td>5655</td>\n      <td>...</td>\n      <td>12471</td>\n      <td>17980</td>\n      <td>2322</td>\n      <td>6341</td>\n      <td>16395</td>\n      <td>14759</td>\n      <td>14798</td>\n      <td>17189</td>\n      <td>3864</td>\n      <td>12536</td>\n    </tr>\n    <tr>\n      <th>319</th>\n      <td>Лианозово</td>\n      <td>18</td>\n      <td>ЛЮБЛИНСКАЯ</td>\n      <td>18978</td>\n      <td>8499</td>\n      <td>2959</td>\n      <td>12203</td>\n      <td>9070</td>\n      <td>3349</td>\n      <td>5543</td>\n      <td>...</td>\n      <td>17639</td>\n      <td>14071</td>\n      <td>17237</td>\n      <td>16304</td>\n      <td>8357</td>\n      <td>5616</td>\n      <td>16496</td>\n      <td>8603</td>\n      <td>16046</td>\n      <td>5489</td>\n    </tr>\n    <tr>\n      <th>320</th>\n      <td>Физтех</td>\n      <td>18</td>\n      <td>ЛЮБЛИНСКАЯ</td>\n      <td>1476</td>\n      <td>2893</td>\n      <td>9897</td>\n      <td>9793</td>\n      <td>9822</td>\n      <td>4534</td>\n      <td>4115</td>\n      <td>...</td>\n      <td>16336</td>\n      <td>17256</td>\n      <td>14147</td>\n      <td>2938</td>\n      <td>15037</td>\n      <td>3834</td>\n      <td>5997</td>\n      <td>5933</td>\n      <td>4969</td>\n      <td>5404</td>\n    </tr>\n    <tr>\n      <th>321</th>\n      <td>Текстильщики СЦ</td>\n      <td>1749</td>\n      <td>БКЛ</td>\n      <td>18055</td>\n      <td>18422</td>\n      <td>14815</td>\n      <td>16915</td>\n      <td>6052</td>\n      <td>17560</td>\n      <td>14126</td>\n      <td>...</td>\n      <td>4330</td>\n      <td>17175</td>\n      <td>1590</td>\n      <td>19487</td>\n      <td>11503</td>\n      <td>13438</td>\n      <td>7997</td>\n      <td>10796</td>\n      <td>11741</td>\n      <td>1741</td>\n    </tr>\n  </tbody>\n</table>\n<p>322 rows × 97 columns</p>\n</div>"
     },
     "execution_count": 4,
     "metadata": {},
     "output_type": "execute_result"
    }
   ],
   "source": [
    "import pandas as pd\n",
    "станции = pd.read_excel('пп_станции.xlsx')\n",
    "станции"
   ],
   "metadata": {
    "collapsed": false,
    "ExecuteTime": {
     "start_time": "2024-04-20T17:50:35.459474Z",
     "end_time": "2024-04-20T17:50:38.212414Z"
    }
   }
  },
  {
   "cell_type": "code",
   "execution_count": null,
   "outputs": [],
   "source": [],
   "metadata": {
    "collapsed": false
   }
  }
 ],
 "metadata": {
  "kernelspec": {
   "display_name": "Python 3",
   "language": "python",
   "name": "python3"
  },
  "language_info": {
   "codemirror_mode": {
    "name": "ipython",
    "version": 2
   },
   "file_extension": ".py",
   "mimetype": "text/x-python",
   "name": "python",
   "nbconvert_exporter": "python",
   "pygments_lexer": "ipython2",
   "version": "2.7.6"
  }
 },
 "nbformat": 4,
 "nbformat_minor": 0
}
